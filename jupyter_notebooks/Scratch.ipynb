{
 "cells": [
  {
   "cell_type": "code",
   "execution_count": 1,
   "metadata": {
    "collapsed": false,
    "run_control": {
     "breakpoint": false
    }
   },
   "outputs": [
    {
     "name": "stderr",
     "output_type": "stream",
     "text": [
      "/Library/Python/2.7/site-packages/IPython/extensions/rmagic.py:693: UserWarning: The rmagic extension in IPython is deprecated in favour of rpy2.ipython. If available, that will be loaded instead.\n",
      "http://rpy.sourceforge.net/\n",
      "  warnings.warn(\"The rmagic extension in IPython is deprecated in favour of \"\n",
      ":0: FutureWarning: IPython widgets are experimental and may change in the future.\n"
     ]
    }
   ],
   "source": [
    "### Load\n",
    "%matplotlib inline\n",
    "import os\n",
    "import matplotlib.pyplot as plt\n",
    "import numpy as np\n",
    "import random \n",
    "import pandas as pd\n",
    "from ggplot import *\n",
    "%load_ext rmagic\n",
    "\n",
    "pupil_params = np.array([500,500,1500,2000]) \n",
    "import pymc3 as pm\n",
    "import theano\n",
    "import theano.tensor as T\n",
    "from pymc3.distributions.timeseries import GaussianRandomWalk\n",
    "import scipy\n",
    "import spectral\n"
   ]
  },
  {
   "cell_type": "code",
   "execution_count": null,
   "metadata": {
    "collapsed": true
   },
   "outputs": [],
   "source": [
    "%%R\n",
    "library(glmnet)\n",
    "cvfit = cv.glmnet(X.train, Y.train[,1])\n",
    "plot(cvfit)\n",
    "#lm.ridge(Y.train[,1] ~ X.train,lambda=0.1)\n",
    "#select(lm.ridge(Y.train[,1] ~ X.train, lambda = seq(0,20,0.001)))\n",
    "cvfit$lambda.min\n",
    "#predict(cvfit, newx = X.test, s = \"lambda.min\")"
   ]
  },
  {
   "cell_type": "markdown",
   "metadata": {
    "run_control": {
     "breakpoint": false
    }
   },
   "source": [
    "## Showing Cancor in R is gives the Q matrix from BF"
   ]
  },
  {
   "cell_type": "code",
   "execution_count": 2,
   "metadata": {
    "collapsed": false,
    "run_control": {
     "breakpoint": false
    }
   },
   "outputs": [
    {
     "name": "stderr",
     "output_type": "stream",
     "text": [
      "ERROR: Cell magic `%%R` not found.\n"
     ]
    }
   ],
   "source": [
    "%%R\n",
    "n=40\n",
    "X = round(mvrnorm(n,mu=matrix(0,4),diag(4),4))\n",
    "Y = round(mvrnorm(n,mu=matrix(0,3),diag(3),4))\n",
    "          \n",
    "cc=cancor(X,Y)\n",
    "Q=solve(t(Y)%*%Y)%*%(t(Y)%*%X)%*%solve(t(X)%*%X)%*%(t(X)%*%Y)\n",
    "print(Q)\n",
    "print(cc)\n",
    "\n",
    "# how to get Q back from the R function\n",
    "C=(diag(3)*(cc$cor**2))\n",
    "#print(C)\n",
    "print(t(cc$ycoef)%*%C%*%t(solve(cc$ycoef)))\n",
    "print(cc$ycoef%*%C%*%solve(cc$ycoef))"
   ]
  },
  {
   "cell_type": "markdown",
   "metadata": {
    "run_control": {
     "breakpoint": false
    }
   },
   "source": [
    "## Why is Matlab's output different??"
   ]
  },
  {
   "cell_type": "code",
   "execution_count": 1,
   "metadata": {
    "collapsed": false,
    "run_control": {
     "breakpoint": false
    }
   },
   "outputs": [
    {
     "name": "stderr",
     "output_type": "stream",
     "text": [
      "ERROR: Cell magic `%%R` not found.\n"
     ]
    }
   ],
   "source": [
    "%%R -o X,Y\n",
    "Z = matrix(.9,2,2)\n",
    "diag(Z)=1\n",
    "out<-mvrnorm(100,matrix(0,2),Z)\n",
    "y1<-out[,1]\n",
    "x<-out[,2]\n",
    "#plot(x,y1)\n",
    "y2 <-rnorm(100,0,1)\n",
    "print(cor(x,y1))\n",
    "#plot(x,y1)\n",
    "x2 <-rnorm(100,0,1)\n",
    "\n",
    "Y = cbind(y1,y2)\n",
    "X = cbind(x,x2)\n",
    "cc<-cancor(X,Y)\n",
    "print(cc)\n",
    "scatterplot3d(y1,y2,x)\n",
    "\n",
    "Yn = t(cc$ycoef%*%t(Y))\n",
    "y1n=Yn[,1]\n",
    "y2n=Yn[,2]\n",
    "#print(Yn)\n",
    "scatterplot3d(y1n,y2n,x)"
   ]
  },
  {
   "cell_type": "code",
   "execution_count": null,
   "metadata": {
    "collapsed": true,
    "run_control": {
     "breakpoint": false
    }
   },
   "outputs": [],
   "source": [
    "import sklearn.cross_decomposition as cd\n",
    "cca=cd.CCA()\n",
    "c=cca.fit(np.array(X),np.array(Y))\n",
    "#c=c.get_params()\n",
    "#print(c)\n",
    "print(c.y_loadings_)\n",
    "print(c.y_weights_)\n",
    "print(c.y_rotations_)\n",
    "X_train_r, Y_train_r = cca.transform(np.array(X),np.array(Y))\n",
    "\n",
    "cca.score(np.array(X),np.array(Y))\n",
    "#c=c.get_params()x<-c(1,1,4,2,1,4)\n",
    "y1<-c(4,1,4,2,6,4)\n",
    "y1<-c(4,3,5,6,1,1)\n",
    "Y = cbind(y1,y2)\n",
    "X = cbind(x,x2)\n",
    "# interesting you can keep fewer dimension.. scikit uses it as dimension reduction.. "
   ]
  },
  {
   "cell_type": "code",
   "execution_count": 23,
   "metadata": {
    "collapsed": false,
    "run_control": {
     "breakpoint": false
    }
   },
   "outputs": [
    {
     "data": {
      "text/plain": [
       "$cor\n",
       "[1] 0.8447087\n",
       "\n",
       "$xcoef\n",
       "          [,1]\n",
       "[1,] 0.1601282\n",
       "\n",
       "$ycoef\n",
       "         [,1]       [,2]\n",
       "y1 0.06695451  0.1300887\n",
       "y2 0.04837141 -0.1389584\n",
       "\n",
       "$xcenter\n",
       "[1] 0\n",
       "\n",
       "$ycenter\n",
       "[1] 0 0\n",
       "\n"
      ]
     },
     "metadata": {},
     "output_type": "display_data"
    }
   ],
   "source": [
    "%%R\n",
    "\n",
    "x<-c(1,1,4,2,1,4)\n",
    "y1<-c(4,1,4,2,6,4)\n",
    "y2<-c(4,3,5,6,1,1)\n",
    "Y<-cbind(y1,y2)\n",
    "X = x\n",
    "c<-cancor(X,Y,xcenter=FALSE,ycenter=FALSE)\n",
    "c"
   ]
  },
  {
   "cell_type": "code",
   "execution_count": 26,
   "metadata": {
    "collapsed": false,
    "run_control": {
     "breakpoint": false
    }
   },
   "outputs": [
    {
     "data": {
      "text/plain": [
       "$values\n",
       "[1]  7.135328e-01 -5.551115e-17\n",
       "\n",
       "$vectors\n",
       "          [,1]       [,2]\n",
       "[1,] 0.8105909 -0.6834243\n",
       "[2,] 0.5856128  0.7300214\n",
       "\n",
       "$d\n",
       "[1] 7.193083e-01 4.052433e-17\n",
       "\n",
       "$u\n",
       "           [,1]       [,2]\n",
       "[1,] -0.8105909 -0.5856128\n",
       "[2,] -0.5856128  0.8105909\n",
       "\n",
       "$v\n",
       "           [,1]       [,2]\n",
       "[1,] -0.7300214  0.6834243\n",
       "[2,] -0.6834243 -0.7300214\n",
       "\n"
      ]
     },
     "metadata": {},
     "output_type": "display_data"
    }
   ],
   "source": [
    "%%R\n",
    "Q=solve(t(Y)%*%Y) %*% (t(Y)%*%X) %*% solve(t(X)%*%X) %*% (t(X)%*%Y)\n",
    "Q\n",
    "### YX XY / YY XX basically \n",
    "### \n",
    "out<-eigen(Q)\n",
    "print(out)\n",
    "r<-sqrt(out$values)\n",
    "print(svd(Q))"
   ]
  },
  {
   "cell_type": "markdown",
   "metadata": {
    "run_control": {
     "breakpoint": false
    }
   },
   "source": [
    "Why does R have only 4coefficients and matlab 2\n",
    "oh interesting R gives you 2x2 when x=2,y=2..\n",
    "and my Q.. is 2x2 when I do it.. but perhaps matlab only returns the first 1 and R just does eigen.. \n"
   ]
  },
  {
   "cell_type": "markdown",
   "metadata": {
    "run_control": {
     "breakpoint": false
    }
   },
   "source": [
    "## Signal Matrix\n",
    "\n",
    "Calculating Signal"
   ]
  },
  {
   "cell_type": "code",
   "execution_count": 3,
   "metadata": {
    "collapsed": false,
    "run_control": {
     "breakpoint": false
    }
   },
   "outputs": [
    {
     "name": "stderr",
     "output_type": "stream",
     "text": [
      "ERROR: Cell magic `%%R` not found.\n"
     ]
    }
   ],
   "source": [
    "%%R\n",
    "# each voxel shares a design matrix \n",
    "x1 = rep(c(-.25,-.25,-.25,-.25,1),8)\n",
    "x2 = rep(c(-.66,-.66,-.66,.5,.5),8)\n",
    "x1 = rnorm(40)\n",
    "x2 = rnorm(40)\n",
    "X = cbind(x1,x2)\n",
    "\n",
    "b1= rnorm(3)\n",
    "b2= rnorm(3)\n",
    "B = cbind(b1,b2)\n",
    "B = t(B)\n",
    "#B=cbind(c(.4,.4),c(.1,.8),c(-.2,.3)) #  each voxel responds the same to the design matrix \n",
    "F=t(B)%*%t(X)%*%X%*%B\n",
    "print(F)\n",
    "solve(F)\n"
   ]
  },
  {
   "cell_type": "markdown",
   "metadata": {
    "run_control": {
     "breakpoint": false
    }
   },
   "source": [
    "## Mscl fMRI Stuff"
   ]
  },
  {
   "cell_type": "code",
   "execution_count": 4,
   "metadata": {
    "collapsed": false,
    "run_control": {
     "breakpoint": false
    }
   },
   "outputs": [
    {
     "ename": "NameError",
     "evalue": "name 'nib' is not defined",
     "output_type": "error",
     "traceback": [
      "\u001b[0;31m---------------------------------------------------------------------------\u001b[0m",
      "\u001b[0;31mNameError\u001b[0m                                 Traceback (most recent call last)",
      "\u001b[0;32m<ipython-input-4-f401674569a2>\u001b[0m in \u001b[0;36m<module>\u001b[0;34m()\u001b[0m\n\u001b[0;32m----> 1\u001b[0;31m \u001b[0mepi_img\u001b[0m \u001b[0;34m=\u001b[0m \u001b[0mnib\u001b[0m\u001b[0;34m.\u001b[0m\u001b[0mload\u001b[0m\u001b[0;34m(\u001b[0m\u001b[0;34m'example_sub.nii.gz'\u001b[0m\u001b[0;34m)\u001b[0m\u001b[0;34m\u001b[0m\u001b[0m\n\u001b[0m\u001b[1;32m      2\u001b[0m \u001b[0mepi_img_data\u001b[0m \u001b[0;34m=\u001b[0m \u001b[0mepi_img\u001b[0m\u001b[0;34m.\u001b[0m\u001b[0mget_data\u001b[0m\u001b[0;34m(\u001b[0m\u001b[0;34m)\u001b[0m\u001b[0;34m\u001b[0m\u001b[0m\n\u001b[1;32m      3\u001b[0m \u001b[0mepi_img_data\u001b[0m\u001b[0;34m.\u001b[0m\u001b[0mshape\u001b[0m\u001b[0;34m\u001b[0m\u001b[0m\n",
      "\u001b[0;31mNameError\u001b[0m: name 'nib' is not defined"
     ]
    }
   ],
   "source": [
    "import nibabel as nib\n",
    "import os\n",
    "os.chdir('/Users/chris/Desktop/final_project')\n",
    "import numpy as np\n",
    "%load_ext rmagic\n",
    "epi_img = nib.load('example_sub.nii.gz')\n",
    "epi_img_data = epi_img.get_data()\n",
    "epi_img_data.shape"
   ]
  },
  {
   "cell_type": "code",
   "execution_count": null,
   "metadata": {
    "collapsed": true,
    "run_control": {
     "breakpoint": false
    }
   },
   "outputs": [],
   "source": [
    "%matplotlib inline\n",
    "import matplotlib.pyplot as plt\n",
    "def show_slices(slices):\n",
    "    \"\"\" Function to display row of image slices \"\"\"\n",
    "    fig, axes = plt.subplots(1, len(slices),figsize=(18,12))\n",
    "    for i, slice in enumerate(slices):\n",
    "        axes[i].imshow(slice.T, cmap=\"gray\", origin=\"lower\",interpolation='none')\n",
    "        \n",
    "\n",
    "        \n",
    "\n",
    "slice_1 = epi_img_data[:, :, 10,1]\n",
    "slice_2 = epi_img_data[:, :, 16,1]\n",
    "epi_img_data[40,40,20,1]=2000\n",
    "epi_img_data[40,42,20,1]=2000\n",
    "epi_img_data[42,40,20,1]=2000\n",
    "epi_img_data[44,40,20,1]=2000\n",
    "epi_img_data[42,42,20,1]=2000\n",
    "epi_img_data[44,42,20,1]=2000\n",
    "slice_3 = epi_img_data[:, :, 22,1]\n",
    "slice_4 = epi_img_data[:, :, 25,1]\n",
    "show_slices([slice_1, slice_2,slice_3,slice_4])\n",
    "plt.suptitle(\"Center slices for EPI image\")  \n",
    "\n",
    "print(np.max(epi_img_data[:, :, 20,1]))"
   ]
  },
  {
   "cell_type": "code",
   "execution_count": null,
   "metadata": {
    "collapsed": true,
    "run_control": {
     "breakpoint": false
    }
   },
   "outputs": [],
   "source": [
    "## make mask ##\n",
    "sample_image =epi_img_data[:, :, 22,1]\n",
    "mask=sample_image>350\n",
    "mask[:,0:10]=0\n",
    "plt.imshow(mask)\n",
    "np.savetxt('underlay.txt',sample_image)\n",
    "np.savetxt('mask.txt',mask)\n",
    "\n",
    "#mask.to_filename('mask.nii')\n",
    "#nib.save(mask,'mask.nii')\n",
    "\n",
    "#sample_image.to_filename('underlay.nii')\n",
    "#nib.save(sample_image,'underlay.nii')"
   ]
  },
  {
   "cell_type": "markdown",
   "metadata": {
    "run_control": {
     "breakpoint": false
    }
   },
   "source": [
    "## Mscl Fitting\n",
    "\n",
    "generate data... "
   ]
  },
  {
   "cell_type": "code",
   "execution_count": null,
   "metadata": {
    "collapsed": true,
    "run_control": {
     "breakpoint": false
    }
   },
   "outputs": [],
   "source": [
    "%%R\n",
    "\n",
    "data.train<-generate_data()\n",
    "data.test<-generate_data()\n",
    "\n",
    "library(scatterplot3d)\n",
    "\n",
    "\n",
    "par(mfrow=c(2,2))\n",
    "scatterplot3d(data.train$Y)\n",
    "title('Y space')\n",
    "\n",
    "plot(data.train$Y[,1],type='l',col='red')\n",
    "lines(data.train$Y[,2],type='l',col='blue')\n",
    "lines(data.train$Y[,3],type='l',col='green')\n",
    "title('Y across Time')\n",
    "\n",
    "plot(data.train$X[,1],col='yellow',type='l')\n",
    "lines(data.train$X[,2],col='orange',type='l',linestyle='--')\n",
    "title('X across Time')\n"
   ]
  },
  {
   "cell_type": "code",
   "execution_count": null,
   "metadata": {
    "collapsed": true,
    "run_control": {
     "breakpoint": false
    }
   },
   "outputs": [],
   "source": [
    "%%R -w 880 -h 480 \n",
    "\n",
    "# let's esimate\n",
    "\n",
    "OLS_estimate<-function(data){\n",
    "    Bhat.ols = solve(t(X)%*%X)%*%t(X)%*%Y\n",
    "    Yhat = data$X%*%Bhat.ols\n",
    "    MSE = mean((Yhat-data$Y)**2)\n",
    "    fit = list(Yhat=Yhat,Bhat.ols=Bhat.ols,MSE=MSE)\n",
    "    return(fit)\n",
    "}\n",
    "OLS_predict<-function(fit,data){\n",
    "    Yhat = data$X%*%fit$Bhat.ols\n",
    "    MSE = mean((Yhat-data$Y)**2)\n",
    "    predict = list(MSE=MSE,Yhat=Yhat)\n",
    "    return(predict)\n",
    "}\n",
    "\n",
    "\n",
    "train.fit.ols = OLS_estimate(data.train)\n",
    "test.predicted = OLS_predict(train.fit.ols,data.test)\n",
    "\n",
    "par(mfrow=c(1,2))\n",
    "plot(data.train$Y[,1],type='l',col='red')\n",
    "lines(train.fit.ols$Yhat[,1],type='l',col='red',lty=2)\n",
    "lines(data.train$Y[,2],type='l',col='blue')\n",
    "lines(train.fit.ols$Yhat[,2],type='l',col='blue',lty=2)\n",
    "lines(data.train$Y[,3],type='l',col='green')\n",
    "lines(train.fit.ols$Yhat[,3],type='l',col='green',lty=2)\n",
    "title(paste('Training Set',train.fit.ols$MSE))\n",
    "\n",
    "plot(data.test$Y[,1],type='l',col='red')\n",
    "lines(test.predicted$Yhat[,1],type='l',col='red',lty=2)\n",
    "lines(data.test$Y[,2],type='l',col='blue')\n",
    "lines(test.predicted$Yhat[,2],type='l',col='blue',lty=2)\n",
    "lines(data.test$Y[,3],type='l',col='green')\n",
    "lines(test.predicted$Yhat[,3],type='l',col='green',lty=2)\n",
    "title(paste('Test Set',test.predicted$MSE))\n",
    "\n",
    "\n",
    "MSE.ols = matrix(0,1000)\n",
    "for (sim in seq(1000)){\n",
    "    data.train<-generate_data()\n",
    "    data.test<-generate_data()\n",
    "    train.fit.ols = OLS_estimate(data.train)\n",
    "    test.predicted = OLS_predict(train.fit.ols,data.test)\n",
    "    MSE.ols[sim] = test.predicted$MSE\n",
    "    \n",
    "}\n",
    "hist(MSE.ols,main='Test MSE OLS')\n",
    "mean(MSE.ols)"
   ]
  },
  {
   "cell_type": "markdown",
   "metadata": {
    "run_control": {
     "breakpoint": false
    }
   },
   "source": [
    "#### Prediction steeper slope"
   ]
  },
  {
   "cell_type": "code",
   "execution_count": null,
   "metadata": {
    "collapsed": true,
    "run_control": {
     "breakpoint": false
    }
   },
   "outputs": [],
   "source": [
    "%%R\n",
    "\n",
    "data.train<-generate_data()\n",
    "data.test<-generate_data()\n",
    "train.fit.ols = OLS_estimate(data.train)\n",
    "test.predicted = OLS_predict(train.fit.ols,data.test)\n",
    "    \n",
    "#plot(train.fit.ols$Yhat,data.test$Y)\n",
    "abline(lm(data.test$Y~train.fit.ols$Yhat),col='green')\n",
    "abline(a=0,b=train.fit.ols$Bhat.ols[1])\n",
    "\n",
    "for (sim in seq(10)){\n",
    "    data.train<-generate_data()\n",
    "    data.test<-generate_data()\n",
    "    train.fit.ols = OLS_estimate(data.train)\n",
    "    test.predicted = OLS_predict(train.fit.ols,data.test)\n",
    "    \n",
    "    lines(train.fit.ols$Yhat,data.test$Y)\n",
    "    abline(lm(data.test$Y~train.fit.ols$Yhat),col='green')\n",
    "    abline(a=0,b=train.fit.ols$Bhat.ols[1])\n",
    "}"
   ]
  },
  {
   "cell_type": "code",
   "execution_count": null,
   "metadata": {
    "collapsed": true,
    "run_control": {
     "breakpoint": false
    }
   },
   "outputs": [],
   "source": [
    "## convert out of R form\n",
    "response_masked = np.array(response_masked)\n",
    "response_masked[response_masked==0]=np.nan\n",
    "\n",
    "avg_gaus_image = np.array(avg_gaus_image)\n",
    "avg_gaus_image[avg_gaus_image==0]=np.nan\n",
    "\n",
    "\n",
    "### Plot \n",
    "plt.figure(figsize=(18,12))\n",
    "im1=plt.imshow(sample_slice.T, cmap=\"gray\", origin=\"lower\",interpolation='none')\n",
    "\n",
    "import matplotlib.cm as cm\n",
    "colmap = cm.get_cmap('hot')\n",
    "np.shape(colmap._lut)\n",
    "colmap._lut[:,-1]=np.ones(colmap.N+3)*.5\n",
    "im2=plt.imshow(avg_gaus_image.T, cmap=colmap,origin=\"lower\",interpolation='none')\n",
    "plt.colorbar()\n",
    "im3=plt.imshow(response_masked.T, cmap=colmap,origin=\"lower\",interpolation='none')\n",
    "plt.colorbar()\n",
    "plt.show()"
   ]
  }
 ],
 "metadata": {
  "css": [
   ""
  ],
  "kernelspec": {
   "display_name": "Python 2",
   "language": "python",
   "name": "python2"
  },
  "language_info": {
   "codemirror_mode": {
    "name": "ipython",
    "version": 2
   },
   "file_extension": ".py",
   "mimetype": "text/x-python",
   "name": "python",
   "nbconvert_exporter": "python",
   "pygments_lexer": "ipython2",
   "version": "2.7.5"
  }
 },
 "nbformat": 4,
 "nbformat_minor": 0
}
